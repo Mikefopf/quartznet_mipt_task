{
 "cells": [
  {
   "cell_type": "code",
   "execution_count": 1,
   "id": "d4f93523",
   "metadata": {},
   "outputs": [
    {
     "name": "stdout",
     "output_type": "stream",
     "text": [
      "################################################################################\n",
      "### WARNING, path does not exist: KALDI_ROOT=/mnt/matylda5/iveselyk/Tools/kaldi-trunk\n",
      "###          (please add 'export KALDI_ROOT=<your_path>' in your $HOME/.profile)\n",
      "###          (or run as: KALDI_ROOT=<your_path> python <your_script>.py)\n",
      "################################################################################\n",
      "\n",
      "GPU available: True (cuda), used: True\n",
      "TPU available: False, using: 0 TPU cores\n",
      "IPU available: False, using: 0 IPUs\n",
      "HPU available: False, using: 0 HPUs\n",
      "`Trainer(val_check_interval=1.0)` was configured so validation will run at the end of the training epoch..\n",
      "Missing logger folder: logs/lightning_logs\n",
      "LOCAL_RANK: 0 - CUDA_VISIBLE_DEVICES: [15]\n",
      "\n",
      "  | Name     | Type        | Params\n",
      "-----------------------------------------\n",
      "0 | encoder  | QuartzNet   | 6.7 M \n",
      "1 | decoder  | ConvDecoder | 34.9 K\n",
      "2 | wer      | WER         | 0     \n",
      "3 | ctc_loss | CTCLoss     | 0     \n",
      "-----------------------------------------\n",
      "6.7 M     Trainable params\n",
      "0         Non-trainable params\n",
      "6.7 M     Total params\n",
      "26.873    Total estimated model params size (MB)\n",
      "Sanity Checking: 0it [00:00, ?it/s]/raid/mtalalay/venv/lib/python3.8/site-packages/pytorch_lightning/trainer/connectors/data_connector.py:236: PossibleUserWarning: The dataloader, val_dataloader 0, does not have many workers which may be a bottleneck. Consider increasing the value of the `num_workers` argument` (try 96 which is the number of cpus on this machine) in the `DataLoader` init to improve performance.\n",
      "  rank_zero_warn(\n",
      "Sanity Checking DataLoader 0:   0%|                       | 0/2 [00:00<?, ?it/s][2022-11-01 14:30:37,077][lightning][INFO] - reference : джой хватит\n",
      "[2022-11-01 14:30:37,077][lightning][INFO] - prediction: щпкпкпкпкщкщк\n",
      "Sanity Checking DataLoader 0:  50%|███████▌       | 1/2 [00:00<00:00,  8.67it/s][2022-11-01 14:30:37,160][lightning][INFO] - reference : джой надоел\n",
      "[2022-11-01 14:30:37,160][lightning][INFO] - prediction: щкщкпщпщкщкщкщк\n",
      "/raid/mtalalay/venv/lib/python3.8/site-packages/pytorch_lightning/trainer/connectors/data_connector.py:236: PossibleUserWarning: The dataloader, train_dataloader, does not have many workers which may be a bottleneck. Consider increasing the value of the `num_workers` argument` (try 96 which is the number of cpus on this machine) in the `DataLoader` init to improve performance.\n",
      "  rank_zero_warn(\n",
      "Epoch 0:   0%|       | 4/7750 [00:02<1:07:32,  1.91it/s, loss=1.14e+03, v_num=0][2022-11-01 14:30:42,550][lightning][INFO] - reference : афина организуй мне запись к моему парикмахеру на этой неделе\n",
      "[2022-11-01 14:30:42,550][lightning][INFO] - prediction: н ба рафа ашанрнрнрнрн нрнрнрнрнрнрнрнрнрнрнрнрнрнрнрнрнанрнрн н нрэ рнрнрнр нрбрэанрврбн нрэ р бвэшыб зр рчбэа рэр р р рбр шр р рвблр р бэбрэмы эч рбрэ рбэв ш э мрэ р эбы цэкьабр ьб ю р з ычб  э э рбра эв йьрэ э рэ вр рэ раэ шэб р э э ч в вр р э э рб э р вр эрэ брзбрэрй рэбрэшэв афр э\n",
      "Epoch 0:   0%|              | 9/7750 [00:03<55:30,  2.32it/s, loss=816, v_num=0][2022-11-01 14:30:44,411][lightning][INFO] - reference : джой скажи а у тебя есть девушка\n",
      "[2022-11-01 14:30:44,411][lightning][INFO] - prediction: нн\n",
      "Epoch 0:   0%|             | 14/7750 [00:05<52:35,  2.45it/s, loss=621, v_num=0][2022-11-01 14:30:46,008][lightning][INFO] - reference : джой почему у некоторых людей нормальная улыбка а у некоторых очень сильно видны верхние десны\n",
      "[2022-11-01 14:30:46,008][lightning][INFO] - prediction:   н н        \n",
      "Epoch 0:   0%|             | 19/7750 [00:07<52:00,  2.48it/s, loss=508, v_num=0][2022-11-01 14:30:47,847][lightning][INFO] - reference : сбер здравствуйте сегодня работает банк на гамзатова шестьдесят четыре\n",
      "[2022-11-01 14:30:47,847][lightning][INFO] - prediction: н\n",
      "Epoch 0:   0%|             | 24/7750 [00:09<49:49,  2.58it/s, loss=306, v_num=0][2022-11-01 14:30:49,681][lightning][INFO] - reference : афина отключить таймер\n",
      "[2022-11-01 14:30:49,682][lightning][INFO] - prediction: \n",
      "Epoch 0:   0%|             | 29/7750 [00:11<49:48,  2.58it/s, loss=207, v_num=0][2022-11-01 14:30:51,380][lightning][INFO] - reference : афина когда перестал существовать саманиды\n",
      "[2022-11-01 14:30:51,380][lightning][INFO] - prediction: \n",
      "Epoch 0:   0%|             | 34/7750 [00:12<48:50,  2.63it/s, loss=179, v_num=0][2022-11-01 14:30:53,579][lightning][INFO] - reference : афина из за чего муха не падает со стены\n",
      "[2022-11-01 14:30:53,579][lightning][INFO] - prediction: \n",
      "Epoch 0:   1%|             | 39/7750 [00:15<50:19,  2.55it/s, loss=174, v_num=0][2022-11-01 14:30:55,375][lightning][INFO] - reference : сбер здравствуйте как подключить услугу бонусы спасибо\n",
      "[2022-11-01 14:30:55,376][lightning][INFO] - prediction: \n",
      "Epoch 0:   1%|             | 44/7750 [00:16<49:29,  2.59it/s, loss=166, v_num=0][2022-11-01 14:30:57,315][lightning][INFO] - reference : афина поставь будильник на восемь утра\n",
      "[2022-11-01 14:30:57,315][lightning][INFO] - prediction: \n",
      "Epoch 0:   1%|             | 49/7750 [00:18<49:15,  2.61it/s, loss=163, v_num=0][2022-11-01 14:30:59,046][lightning][INFO] - reference : сбер выведи мне адреса банкоматов сбербанка\n",
      "[2022-11-01 14:30:59,046][lightning][INFO] - prediction: \n",
      "Epoch 0:   1%|             | 54/7750 [00:20<48:25,  2.65it/s, loss=157, v_num=0][2022-11-01 14:31:00,509][lightning][INFO] - reference : афина чем занимается роснанотех\n",
      "[2022-11-01 14:31:00,509][lightning][INFO] - prediction: \n",
      "Epoch 0:   1%|             | 59/7750 [00:22<47:48,  2.68it/s, loss=149, v_num=0][2022-11-01 14:31:02,150][lightning][INFO] - reference : джой какие болонки ты знаешь\n",
      "[2022-11-01 14:31:02,150][lightning][INFO] - prediction: \n",
      "Epoch 0:   1%|             | 64/7750 [00:23<47:34,  2.69it/s, loss=140, v_num=0][2022-11-01 14:31:03,871][lightning][INFO] - reference : джой включи корнилич\n",
      "[2022-11-01 14:31:03,871][lightning][INFO] - prediction: \n",
      "Epoch 0:   1%|             | 69/7750 [00:25<47:16,  2.71it/s, loss=136, v_num=0][2022-11-01 14:31:05,852][lightning][INFO] - reference : салют сводный отчет по картам\n",
      "[2022-11-01 14:31:05,853][lightning][INFO] - prediction: \n",
      "Epoch 0:   1%|             | 74/7750 [00:27<47:44,  2.68it/s, loss=136, v_num=0][2022-11-01 14:31:07,743][lightning][INFO] - reference : сбер ужасы стивена спилберга\n",
      "[2022-11-01 14:31:07,743][lightning][INFO] - prediction: \n",
      "Epoch 0:   1%|▏            | 79/7750 [00:29<47:34,  2.69it/s, loss=134, v_num=0][2022-11-01 14:31:10,164][lightning][INFO] - reference : сбер сделай пополнение телефона на двести рублей\n",
      "[2022-11-01 14:31:10,165][lightning][INFO] - prediction: \n",
      "Epoch 0:   1%|▏            | 84/7750 [00:31<48:09,  2.65it/s, loss=141, v_num=0][2022-11-01 14:31:12,440][lightning][INFO] - reference : афина а есть информация по погоде в городе мышкин\n",
      "[2022-11-01 14:31:12,440][lightning][INFO] - prediction: \n",
      "Epoch 0:   1%|▏            | 89/7750 [00:34<49:19,  2.59it/s, loss=143, v_num=0][2022-11-01 14:31:14,318][lightning][INFO] - reference : яркость освещения на веранде нужно увеличить на двадцать пять процентов\n",
      "[2022-11-01 14:31:14,318][lightning][INFO] - prediction: \n",
      "Epoch 0:   1%|▏            | 94/7750 [00:35<48:41,  2.62it/s, loss=147, v_num=0][2022-11-01 14:31:16,234][lightning][INFO] - reference : сбер по какой причине мне пришло отказ по кредиту\n",
      "[2022-11-01 14:31:16,234][lightning][INFO] - prediction: \n",
      "Epoch 0:   1%|▏            | 99/7750 [00:38<48:59,  2.60it/s, loss=148, v_num=0][2022-11-01 14:31:18,036][lightning][INFO] - reference : сбер что за регион оплаты\n",
      "[2022-11-01 14:31:18,036][lightning][INFO] - prediction: \n",
      "Epoch 0:   1%|▏           | 104/7750 [00:39<48:45,  2.61it/s, loss=138, v_num=0][2022-11-01 14:31:20,284][lightning][INFO] - reference : салют что такое острова кука\n",
      "[2022-11-01 14:31:20,284][lightning][INFO] - prediction: \n",
      "Epoch 0:   1%|▏           | 109/7750 [00:42<49:15,  2.59it/s, loss=135, v_num=0][2022-11-01 14:31:22,199][lightning][INFO] - reference : джой фильм про шварценеггера терминатор\n",
      "[2022-11-01 14:31:22,199][lightning][INFO] - prediction: \n",
      "Epoch 0:   1%|▏           | 114/7750 [00:43<49:04,  2.59it/s, loss=133, v_num=0][2022-11-01 14:31:24,498][lightning][INFO] - reference : джой могу поменять офис получения карты\n",
      "[2022-11-01 14:31:24,498][lightning][INFO] - prediction: \n"
     ]
    },
    {
     "name": "stdout",
     "output_type": "stream",
     "text": [
      "Epoch 0:   2%|▏           | 119/7750 [00:46<49:33,  2.57it/s, loss=129, v_num=0][2022-11-01 14:31:26,575][lightning][INFO] - reference : джой давно пора\n",
      "[2022-11-01 14:31:26,575][lightning][INFO] - prediction: \n",
      "Epoch 0:   2%|▏           | 124/7750 [00:48<49:23,  2.57it/s, loss=131, v_num=0][2022-11-01 14:31:28,532][lightning][INFO] - reference : афина для чего нужна финансовая аналитика\n",
      "[2022-11-01 14:31:28,532][lightning][INFO] - prediction: \n",
      "Epoch 0:   2%|▏           | 129/7750 [00:50<49:18,  2.58it/s, loss=130, v_num=0][2022-11-01 14:31:30,464][lightning][INFO] - reference : джой пропали карты\n",
      "[2022-11-01 14:31:30,464][lightning][INFO] - prediction: \n",
      "Epoch 0:   2%|▏           | 134/7750 [00:51<49:15,  2.58it/s, loss=126, v_num=0][2022-11-01 14:31:32,395][lightning][INFO] - reference : джой вруби мое музло\n",
      "[2022-11-01 14:31:32,395][lightning][INFO] - prediction: \n",
      "Epoch 0:   2%|▏           | 139/7750 [00:54<49:20,  2.57it/s, loss=127, v_num=0][2022-11-01 14:31:34,324][lightning][INFO] - reference : сбер когда начался сербский договор\n",
      "[2022-11-01 14:31:34,324][lightning][INFO] - prediction: \n",
      "Epoch 0:   2%|▏           | 144/7750 [00:56<49:22,  2.57it/s, loss=124, v_num=0][2022-11-01 14:31:36,348][lightning][INFO] - reference : салют здравствуйте есть ли деньги у меня на счете\n",
      "[2022-11-01 14:31:36,349][lightning][INFO] - prediction: \n",
      "Epoch 0:   2%|▏           | 149/7750 [00:58<49:21,  2.57it/s, loss=122, v_num=0][2022-11-01 14:31:38,160][lightning][INFO] - reference : салют как часто можно выходить на ули\n",
      "[2022-11-01 14:31:38,161][lightning][INFO] - prediction: \n",
      "Epoch 0:   2%|▏           | 154/7750 [00:59<49:07,  2.58it/s, loss=124, v_num=0][2022-11-01 14:31:40,202][lightning][INFO] - reference : сбер что тебе известно\n",
      "[2022-11-01 14:31:40,202][lightning][INFO] - prediction: \n",
      "Epoch 0:   2%|▏           | 159/7750 [01:01<49:05,  2.58it/s, loss=125, v_num=0][2022-11-01 14:31:41,896][lightning][INFO] - reference : салют перекинь ка деньги а то баланс на сотовом телефоне кончился\n",
      "[2022-11-01 14:31:41,896][lightning][INFO] - prediction: \n",
      "Epoch 0:   2%|▎           | 164/7750 [01:03<48:48,  2.59it/s, loss=124, v_num=0][2022-11-01 14:31:43,682][lightning][INFO] - reference : афина оплата связи второй номер\n",
      "[2022-11-01 14:31:43,683][lightning][INFO] - prediction: \n",
      "Epoch 0:   2%|▎           | 169/7750 [01:05<48:56,  2.58it/s, loss=126, v_num=0][2022-11-01 14:31:45,522][lightning][INFO] - reference : афина какими навыками знаниями и качествами должен обладать современный мужчина чтобы быть капитальным красавчиком\n",
      "[2022-11-01 14:31:45,522][lightning][INFO] - prediction: \n",
      "Epoch 0:   2%|▎           | 174/7750 [01:06<48:31,  2.60it/s, loss=128, v_num=0][2022-11-01 14:31:47,274][lightning][INFO] - reference : сбер что будет если меня поймают с наркотиками а я скажу что нашел их и хочу сдать\n",
      "[2022-11-01 14:31:47,274][lightning][INFO] - prediction: \n",
      "Epoch 0:   2%|▎           | 179/7750 [01:08<48:33,  2.60it/s, loss=130, v_num=0][2022-11-01 14:31:48,839][lightning][INFO] - reference : салют перевыпустите карту московского региона\n",
      "[2022-11-01 14:31:48,839][lightning][INFO] - prediction: \n",
      "Epoch 0:   2%|▎           | 184/7750 [01:10<48:13,  2.62it/s, loss=131, v_num=0][2022-11-01 14:31:50,712][lightning][INFO] - reference : афина как учился базаров александр\n",
      "[2022-11-01 14:31:50,712][lightning][INFO] - prediction: \n",
      "Epoch 0:   2%|▎           | 189/7750 [01:12<48:11,  2.62it/s, loss=130, v_num=0][2022-11-01 14:31:52,662][lightning][INFO] - reference : сбер баланс на карте сорок восемь двадцать пять последние четыре цифры\n",
      "[2022-11-01 14:31:52,662][lightning][INFO] - prediction: \n",
      "Epoch 0:   3%|▎           | 194/7750 [01:14<48:04,  2.62it/s, loss=130, v_num=0][2022-11-01 14:31:54,258][lightning][INFO] - reference : сбер много разговариваешь и все не по делу\n",
      "[2022-11-01 14:31:54,259][lightning][INFO] - prediction: \n",
      "Epoch 0:   3%|▎           | 199/7750 [01:15<47:51,  2.63it/s, loss=129, v_num=0][2022-11-01 14:31:55,762][lightning][INFO] - reference : афина покажи телевизионный канал матч тв\n",
      "[2022-11-01 14:31:55,762][lightning][INFO] - prediction: \n",
      "Epoch 0:   3%|▎           | 204/7750 [01:17<47:41,  2.64it/s, loss=132, v_num=0][2022-11-01 14:31:57,756][lightning][INFO] - reference : джой как расплачиваться в бельгии\n",
      "[2022-11-01 14:31:57,757][lightning][INFO] - prediction: \n",
      "Epoch 0:   3%|▎           | 209/7750 [01:19<47:39,  2.64it/s, loss=133, v_num=0][2022-11-01 14:31:59,361][lightning][INFO] - reference : джой какие виды черное лето ты знаешь\n",
      "[2022-11-01 14:31:59,362][lightning][INFO] - prediction: \n",
      "Epoch 0:   3%|▎           | 214/7750 [01:20<47:24,  2.65it/s, loss=130, v_num=0][2022-11-01 14:32:01,155][lightning][INFO] - reference : афина шутки про нападение\n",
      "[2022-11-01 14:32:01,155][lightning][INFO] - prediction: \n",
      "Epoch 0:   3%|▎           | 219/7750 [01:22<47:30,  2.64it/s, loss=127, v_num=0][2022-11-01 14:32:03,052][lightning][INFO] - reference : сколько стоит один евро в рублях\n",
      "[2022-11-01 14:32:03,052][lightning][INFO] - prediction: \n",
      "Epoch 0:   3%|▎           | 224/7750 [01:24<47:27,  2.64it/s, loss=122, v_num=0][2022-11-01 14:32:05,246][lightning][INFO] - reference : афина где было восстание разина\n",
      "[2022-11-01 14:32:05,246][lightning][INFO] - prediction: \n",
      "Epoch 0:   3%|▎           | 229/7750 [01:26<47:36,  2.63it/s, loss=118, v_num=0][2022-11-01 14:32:07,123][lightning][INFO] - reference : афина заплатить за владимир водоканал\n",
      "[2022-11-01 14:32:07,124][lightning][INFO] - prediction: с\n",
      "Epoch 0:   3%|▎           | 234/7750 [01:28<47:26,  2.64it/s, loss=120, v_num=0][2022-11-01 14:32:09,062][lightning][INFO] - reference : салют какие каких защитников животных ты знаешь\n",
      "[2022-11-01 14:32:09,063][lightning][INFO] - prediction: с\n",
      "Epoch 0:   3%|▎           | 239/7750 [01:30<47:33,  2.63it/s, loss=122, v_num=0][2022-11-01 14:32:10,805][lightning][INFO] - reference : джой отметь что этот трек не катит\n",
      "[2022-11-01 14:32:10,806][lightning][INFO] - prediction: с\n",
      "Epoch 0:   3%|▍           | 244/7750 [01:32<47:26,  2.64it/s, loss=123, v_num=0][2022-11-01 14:32:13,069][lightning][INFO] - reference : сбер в чем заключается уникальность продукта тинькова и почему они им так гордятся\n",
      "[2022-11-01 14:32:13,069][lightning][INFO] - prediction: с\n",
      "Epoch 0:   3%|▍           | 249/7750 [01:34<47:32,  2.63it/s, loss=124, v_num=0][2022-11-01 14:32:14,993][lightning][INFO] - reference : салют покажи где есть банкоматы\n",
      "[2022-11-01 14:32:14,993][lightning][INFO] - prediction: с\n",
      "Epoch 0:   3%|▍           | 254/7750 [01:36<47:24,  2.64it/s, loss=123, v_num=0][2022-11-01 14:32:16,558][lightning][INFO] - reference : салют вперед на пятнадцать минут\n",
      "[2022-11-01 14:32:16,559][lightning][INFO] - prediction: с\n",
      "Epoch 0:   3%|▍           | 259/7750 [01:38<47:20,  2.64it/s, loss=123, v_num=0][2022-11-01 14:32:18,127][lightning][INFO] - reference : салют оформить кредит на выгодных условиях\n",
      "[2022-11-01 14:32:18,127][lightning][INFO] - prediction: с\n",
      "Epoch 0:   3%|▍           | 264/7750 [01:39<47:06,  2.65it/s, loss=123, v_num=0][2022-11-01 14:32:20,104][lightning][INFO] - reference : сбер какие координаты у штаб квартиры оон\n",
      "[2022-11-01 14:32:20,104][lightning][INFO] - prediction: с\n",
      "Epoch 0:   3%|▍           | 269/7750 [01:41<47:09,  2.64it/s, loss=122, v_num=0][2022-11-01 14:32:21,947][lightning][INFO] - reference : афина проиграй диско\n",
      "[2022-11-01 14:32:21,947][lightning][INFO] - prediction: а\n",
      "Epoch 0:   4%|▍           | 274/7750 [01:43<47:02,  2.65it/s, loss=121, v_num=0][2022-11-01 14:32:23,704][lightning][INFO] - reference : джой есть дети у ольги юрьевны\n",
      "[2022-11-01 14:32:23,704][lightning][INFO] - prediction: с\n",
      "Epoch 0:   4%|▍           | 279/7750 [01:45<47:00,  2.65it/s, loss=118, v_num=0][2022-11-01 14:32:25,555][lightning][INFO] - reference : салют включи всеволода фиалковского\n",
      "[2022-11-01 14:32:25,555][lightning][INFO] - prediction: са\n",
      "Epoch 0:   4%|▍           | 284/7750 [01:47<46:57,  2.65it/s, loss=119, v_num=0][2022-11-01 14:32:27,640][lightning][INFO] - reference : сбер перевести маме на карту сотню\n",
      "[2022-11-01 14:32:27,640][lightning][INFO] - prediction: с\n",
      "Epoch 0:   4%|▍           | 289/7750 [01:49<47:04,  2.64it/s, loss=121, v_num=0][2022-11-01 14:32:29,326][lightning][INFO] - reference : сбер машке триста рублей перекинь пожалуйста\n",
      "[2022-11-01 14:32:29,326][lightning][INFO] - prediction: с\n"
     ]
    },
    {
     "name": "stdout",
     "output_type": "stream",
     "text": [
      "Epoch 0:   4%|▍           | 294/7750 [01:51<46:56,  2.65it/s, loss=124, v_num=0][2022-11-01 14:32:31,527][lightning][INFO] - reference : джой установить будильник как сегодня\n",
      "[2022-11-01 14:32:31,527][lightning][INFO] - prediction: с\n",
      "Epoch 0:   4%|▍           | 299/7750 [01:53<47:04,  2.64it/s, loss=127, v_num=0][2022-11-01 14:32:33,434][lightning][INFO] - reference : джой страна сталининградской военной школы летчиков\n",
      "[2022-11-01 14:32:33,434][lightning][INFO] - prediction: са\n",
      "Epoch 0:   4%|▍           | 300/7750 [01:53<47:05,  2.64it/s, loss=126, v_num=0]`Trainer.fit` stopped: `max_steps=300` reached.\n",
      "Epoch 0:   4%|▍           | 300/7750 [01:53<47:05,  2.64it/s, loss=126, v_num=0]\n"
     ]
    }
   ],
   "source": [
    "! HYDRA_FULL_ERROR=1 python3 main.py"
   ]
  },
  {
   "cell_type": "code",
   "execution_count": 3,
   "id": "8c8baeed",
   "metadata": {},
   "outputs": [
    {
     "name": "stdout",
     "output_type": "stream",
     "text": [
      "################################################################################\n",
      "### WARNING, path does not exist: KALDI_ROOT=/mnt/matylda5/iveselyk/Tools/kaldi-trunk\n",
      "###          (please add 'export KALDI_ROOT=<your_path>' in your $HOME/.profile)\n",
      "###          (or run as: KALDI_ROOT=<your_path> python <your_script>.py)\n",
      "################################################################################\n",
      "\n",
      "[2022-11-01 14:33:53,084][lightning][INFO] - successful load initial weights\n",
      "GPU available: True (cuda), used: True\n",
      "TPU available: False, using: 0 TPU cores\n",
      "IPU available: False, using: 0 IPUs\n",
      "HPU available: False, using: 0 HPUs\n",
      "`Trainer(val_check_interval=1.0)` was configured so validation will run at the end of the training epoch..\n",
      "Missing logger folder: logs/lightning_logs\n",
      "LOCAL_RANK: 0 - CUDA_VISIBLE_DEVICES: [15]\n",
      "\n",
      "  | Name     | Type        | Params\n",
      "-----------------------------------------\n",
      "0 | encoder  | QuartzNet   | 6.7 M \n",
      "1 | decoder  | ConvDecoder | 34.9 K\n",
      "2 | wer      | WER         | 0     \n",
      "3 | ctc_loss | CTCLoss     | 0     \n",
      "-----------------------------------------\n",
      "6.7 M     Trainable params\n",
      "0         Non-trainable params\n",
      "6.7 M     Total params\n",
      "26.873    Total estimated model params size (MB)\n",
      "Sanity Checking: 0it [00:00, ?it/s]/raid/mtalalay/venv/lib/python3.8/site-packages/pytorch_lightning/trainer/connectors/data_connector.py:236: PossibleUserWarning: The dataloader, val_dataloader 0, does not have many workers which may be a bottleneck. Consider increasing the value of the `num_workers` argument` (try 96 which is the number of cpus on this machine) in the `DataLoader` init to improve performance.\n",
      "  rank_zero_warn(\n",
      "Sanity Checking DataLoader 0:   0%|                       | 0/2 [00:00<?, ?it/s][2022-11-01 14:33:54,895][lightning][INFO] - reference : джой хватит\n",
      "[2022-11-01 14:33:54,895][lightning][INFO] - prediction: \n",
      "Sanity Checking DataLoader 0:  50%|███████▌       | 1/2 [00:00<00:00,  8.14it/s][2022-11-01 14:33:54,974][lightning][INFO] - reference : джой надоел\n",
      "[2022-11-01 14:33:54,974][lightning][INFO] - prediction: \n",
      "/raid/mtalalay/venv/lib/python3.8/site-packages/pytorch_lightning/trainer/connectors/data_connector.py:236: PossibleUserWarning: The dataloader, train_dataloader, does not have many workers which may be a bottleneck. Consider increasing the value of the `num_workers` argument` (try 96 which is the number of cpus on this machine) in the `DataLoader` init to improve performance.\n",
      "  rank_zero_warn(\n",
      "Epoch 0:   0%|            | 4/7750 [00:02<1:18:59,  1.63it/s, loss=218, v_num=0][2022-11-01 14:34:00,331][lightning][INFO] - reference : афина организуй мне запись к моему парикмахеру на этой неделе\n",
      "[2022-11-01 14:34:00,331][lightning][INFO] - prediction: сижаоу в ао ма еьааа \n",
      "Epoch 0:   0%|            | 9/7750 [00:04<1:02:00,  2.08it/s, loss=180, v_num=0][2022-11-01 14:34:02,839][lightning][INFO] - reference : джой скажи а у тебя есть девушка\n",
      "[2022-11-01 14:34:02,839][lightning][INFO] - prediction: саазакмаии\n",
      "Epoch 0:   0%|             | 14/7750 [00:06<59:53,  2.15it/s, loss=164, v_num=0][2022-11-01 14:34:04,504][lightning][INFO] - reference : джой почему у некоторых людей нормальная улыбка а у некоторых очень сильно видны верхние десны\n",
      "[2022-11-01 14:34:04,504][lightning][INFO] - prediction: чаеакадетапаканакитеиата\n",
      "Epoch 0:   0%|             | 19/7750 [00:08<56:52,  2.27it/s, loss=156, v_num=0][2022-11-01 14:34:06,799][lightning][INFO] - reference : сбер здравствуйте сегодня работает банк на гамзатова шестьдесят четыре\n",
      "[2022-11-01 14:34:06,799][lightning][INFO] - prediction: сажюа ао оетиноаоа отонооонаоонтенеи\n",
      "Epoch 0:   0%|             | 24/7750 [00:10<56:40,  2.27it/s, loss=133, v_num=0][2022-11-01 14:34:08,733][lightning][INFO] - reference : афина отключить таймер\n",
      "[2022-11-01 14:34:08,733][lightning][INFO] - prediction: сафи сиа\n",
      "Epoch 0:   0%|             | 29/7750 [00:12<55:35,  2.31it/s, loss=125, v_num=0][2022-11-01 14:34:10,700][lightning][INFO] - reference : афина когда перестал существовать саманиды\n",
      "[2022-11-01 14:34:10,700][lightning][INFO] - prediction: тна паи скасиааткнао\n",
      "Epoch 0:   0%|             | 34/7750 [00:14<55:14,  2.33it/s, loss=116, v_num=0][2022-11-01 14:34:13,071][lightning][INFO] - reference : афина из за чего муха не падает со стены\n",
      "[2022-11-01 14:34:13,071][lightning][INFO] - prediction: афи очивоно коно каесисие\n",
      "Epoch 0:   1%|             | 39/7750 [00:16<56:00,  2.29it/s, loss=111, v_num=0][2022-11-01 14:34:15,289][lightning][INFO] - reference : сбер здравствуйте как подключить услугу бонусы спасибо\n",
      "[2022-11-01 14:34:15,290][lightning][INFO] - prediction: сберсетикакааресдпусоноекаиа\n",
      "Epoch 0:   1%|             | 44/7750 [00:19<56:16,  2.28it/s, loss=109, v_num=0][2022-11-01 14:34:17,371][lightning][INFO] - reference : афина поставь будильник на восемь утра\n",
      "[2022-11-01 14:34:17,371][lightning][INFO] - prediction: сачина кастибудени омочевотеа\n",
      "Epoch 0:   1%|             | 49/7750 [00:21<55:17,  2.32it/s, loss=105, v_num=0][2022-11-01 14:34:19,299][lightning][INFO] - reference : сбер выведи мне адреса банкоматов сбербанка\n",
      "[2022-11-01 14:34:19,300][lightning][INFO] - prediction: берпеитиненысоти тонаигоа\n",
      "Epoch 0:   1%|             | 54/7750 [00:22<54:23,  2.36it/s, loss=102, v_num=0][2022-11-01 14:34:21,012][lightning][INFO] - reference : афина чем занимается роснанотех\n",
      "[2022-11-01 14:34:21,012][lightning][INFO] - prediction: финечемажмимасмасмоатин\n",
      "Epoch 0:   1%|            | 59/7750 [00:24<53:55,  2.38it/s, loss=95.8, v_num=0][2022-11-01 14:34:22,963][lightning][INFO] - reference : джой какие болонки ты знаешь\n",
      "[2022-11-01 14:34:22,963][lightning][INFO] - prediction: джой кои баботедознаот\n",
      "Epoch 0:   1%|            | 64/7750 [00:26<53:45,  2.38it/s, loss=90.1, v_num=0][2022-11-01 14:34:24,846][lightning][INFO] - reference : джой включи корнилич\n",
      "[2022-11-01 14:34:24,846][lightning][INFO] - prediction: джой включи канич\n",
      "Epoch 0:   1%|            | 69/7750 [00:28<53:21,  2.40it/s, loss=84.5, v_num=0][2022-11-01 14:34:27,211][lightning][INFO] - reference : салют сводный отчет по картам\n",
      "[2022-11-01 14:34:27,211][lightning][INFO] - prediction: салют оне качо покану\n",
      "Epoch 0:   1%|            | 74/7750 [00:31<53:55,  2.37it/s, loss=81.7, v_num=0][2022-11-01 14:34:29,078][lightning][INFO] - reference : сбер ужасы стивена спилберга\n",
      "[2022-11-01 14:34:29,078][lightning][INFO] - prediction: сбер улосастимыс тенбе\n",
      "Epoch 0:   1%|            | 79/7750 [00:32<53:10,  2.40it/s, loss=79.7, v_num=0][2022-11-01 14:34:31,414][lightning][INFO] - reference : сбер сделай пополнение телефона на двести рублей\n",
      "[2022-11-01 14:34:31,414][lightning][INFO] - prediction: сбер сденпобоненитепонадитемоеи\n",
      "Epoch 0:   1%|▏           | 84/7750 [00:35<53:30,  2.39it/s, loss=79.6, v_num=0][2022-11-01 14:34:33,827][lightning][INFO] - reference : афина а есть информация по погоде в городе мышкин\n",
      "[2022-11-01 14:34:33,828][lightning][INFO] - prediction: афина каитианмасакбогожа корземучте\n",
      "Epoch 0:   1%|▏           | 89/7750 [00:37<54:10,  2.36it/s, loss=78.4, v_num=0][2022-11-01 14:34:35,839][lightning][INFO] - reference : яркость освещения на веранде нужно увеличить на двадцать пять процентов\n",
      "[2022-11-01 14:34:35,839][lightning][INFO] - prediction: бей костасчнененераадинодно унчноатипяоц\n",
      "Epoch 0:   1%|▏           | 94/7750 [00:39<53:42,  2.38it/s, loss=77.2, v_num=0][2022-11-01 14:34:37,644][lightning][INFO] - reference : сбер по какой причине мне пришло отказ по кредиту\n",
      "[2022-11-01 14:34:37,644][lightning][INFO] - prediction: сбер покакойкрючинемнеточемуаткас покретии\n",
      "Epoch 0:   1%|▏             | 99/7750 [00:41<53:47,  2.37it/s, loss=76, v_num=0][2022-11-01 14:34:39,766][lightning][INFO] - reference : сбер что за регион оплаты\n",
      "[2022-11-01 14:34:39,766][lightning][INFO] - prediction: сбеер стзребокат\n",
      "Epoch 0:   1%|▏          | 104/7750 [00:43<53:38,  2.38it/s, loss=71.8, v_num=0][2022-11-01 14:34:42,080][lightning][INFO] - reference : салют что такое острова кука\n",
      "[2022-11-01 14:34:42,080][lightning][INFO] - prediction: салют такожтаалоупо\n",
      "Epoch 0:   1%|▏          | 109/7750 [00:46<53:57,  2.36it/s, loss=71.5, v_num=0][2022-11-01 14:34:44,347][lightning][INFO] - reference : джой фильм про шварценеггера терминатор\n",
      "[2022-11-01 14:34:44,348][lightning][INFO] - prediction: джой фем ршацнадертернната\n"
     ]
    },
    {
     "name": "stdout",
     "output_type": "stream",
     "text": [
      "Epoch 0:   1%|▏          | 114/7750 [00:48<53:59,  2.36it/s, loss=69.2, v_num=0][2022-11-01 14:34:46,479][lightning][INFO] - reference : джой могу поменять офис получения карты\n",
      "[2022-11-01 14:34:46,479][lightning][INFO] - prediction: джой магу помнитофис плючини кат\n",
      "Epoch 0:   2%|▏          | 119/7750 [00:50<54:00,  2.35it/s, loss=66.8, v_num=0][2022-11-01 14:34:49,019][lightning][INFO] - reference : джой давно пора\n",
      "[2022-11-01 14:34:49,020][lightning][INFO] - prediction: джой налура\n",
      "Epoch 0:   2%|▏          | 124/7750 [00:52<54:07,  2.35it/s, loss=69.1, v_num=0][2022-11-01 14:34:51,097][lightning][INFO] - reference : афина для чего нужна финансовая аналитика\n",
      "[2022-11-01 14:34:51,097][lightning][INFO] - prediction: афина печжеловенатиназрананите\n",
      "Epoch 0:   2%|▏          | 129/7750 [00:54<54:02,  2.35it/s, loss=70.2, v_num=0][2022-11-01 14:34:52,891][lightning][INFO] - reference : джой пропали карты\n",
      "[2022-11-01 14:34:52,891][lightning][INFO] - prediction: джой пракал парты\n",
      "Epoch 0:   2%|▏          | 134/7750 [00:56<53:35,  2.37it/s, loss=68.3, v_num=0][2022-11-01 14:34:54,986][lightning][INFO] - reference : джой вруби мое музло\n",
      "[2022-11-01 14:34:54,986][lightning][INFO] - prediction: джой убималебусву\n",
      "Epoch 0:   2%|▏            | 139/7750 [00:58<53:36,  2.37it/s, loss=67, v_num=0][2022-11-01 14:34:57,132][lightning][INFO] - reference : сбер когда начался сербский договор\n",
      "[2022-11-01 14:34:57,133][lightning][INFO] - prediction: сбер какданачу са ссески донало\n",
      "Epoch 0:   2%|▏          | 144/7750 [01:00<53:36,  2.36it/s, loss=62.4, v_num=0][2022-11-01 14:34:59,091][lightning][INFO] - reference : салют здравствуйте есть ли деньги у меня на счете\n",
      "[2022-11-01 14:34:59,091][lightning][INFO] - prediction: салют срасттеснедетеермочету\n",
      "Epoch 0:   2%|▏            | 149/7750 [01:02<53:24,  2.37it/s, loss=59, v_num=0][2022-11-01 14:35:00,837][lightning][INFO] - reference : салют как часто можно выходить на ули\n",
      "[2022-11-01 14:35:00,838][lightning][INFO] - prediction: салют акча стмозам тадиднауни\n",
      "Epoch 0:   2%|▏          | 154/7750 [01:04<53:04,  2.39it/s, loss=59.8, v_num=0][2022-11-01 14:35:02,820][lightning][INFO] - reference : сбер что тебе известно\n",
      "[2022-11-01 14:35:02,820][lightning][INFO] - prediction: сбер чкоте безесна\n",
      "Epoch 0:   2%|▏          | 159/7750 [01:06<52:49,  2.39it/s, loss=61.3, v_num=0][2022-11-01 14:35:04,538][lightning][INFO] - reference : салют перекинь ка деньги а то баланс на сотовом телефоне кончился\n",
      "[2022-11-01 14:35:04,538][lightning][INFO] - prediction: салют перети коленьне отабалаосукадерфониатоса\n",
      "Epoch 0:   2%|▏          | 164/7750 [01:08<52:29,  2.41it/s, loss=61.2, v_num=0][2022-11-01 14:35:06,277][lightning][INFO] - reference : афина оплата связи второй номер\n",
      "[2022-11-01 14:35:06,277][lightning][INFO] - prediction: афинаготослесистаронана\n",
      "Epoch 0:   2%|▏          | 169/7750 [01:10<52:33,  2.40it/s, loss=61.5, v_num=0][2022-11-01 14:35:08,339][lightning][INFO] - reference : афина какими навыками знаниями и качествами должен обладать современный мужчина чтобы быть капитальным красавчиком\n",
      "[2022-11-01 14:35:08,340][lightning][INFO] - prediction: афина какими навокымезнанини качилетожмолаасовреми нимучимчтоекопитар расачк\n",
      "Epoch 0:   2%|▏          | 174/7750 [01:11<52:09,  2.42it/s, loss=63.5, v_num=0][2022-11-01 14:35:10,041][lightning][INFO] - reference : сбер что будет если меня поймают с наркотиками а я скажу что нашел их и хочу сдать\n",
      "[2022-11-01 14:35:10,041][lightning][INFO] - prediction: сбер чтобудетессемумо комансакотко ноолястожежтамошалшиочисдат\n",
      "Epoch 0:   2%|▎          | 179/7750 [01:13<51:55,  2.43it/s, loss=65.9, v_num=0][2022-11-01 14:35:11,706][lightning][INFO] - reference : салют перевыпустите карту московского региона\n",
      "[2022-11-01 14:35:11,707][lightning][INFO] - prediction: салют переныбостикато маскускорелерада\n",
      "Epoch 0:   2%|▎          | 184/7750 [01:15<51:37,  2.44it/s, loss=67.5, v_num=0][2022-11-01 14:35:13,291][lightning][INFO] - reference : афина как учился базаров александр\n",
      "[2022-11-01 14:35:13,291][lightning][INFO] - prediction: афина овкакучинса пазарарисата\n",
      "Epoch 0:   2%|▎          | 189/7750 [01:16<51:19,  2.46it/s, loss=71.2, v_num=0][2022-11-01 14:35:15,198][lightning][INFO] - reference : сбер баланс на карте сорок восемь двадцать пять последние четыре цифры\n",
      "[2022-11-01 14:35:15,198][lightning][INFO] - prediction: сбер фосвакартисеркосидоняке поснодишкерцяа\n",
      "Epoch 0:   3%|▎          | 194/7750 [01:18<51:08,  2.46it/s, loss=69.7, v_num=0][2022-11-01 14:35:16,806][lightning][INFO] - reference : сбер много разговариваешь и все не по делу\n",
      "[2022-11-01 14:35:16,806][lightning][INFO] - prediction: сбер набротавалушсли бадима\n",
      "Epoch 0:   3%|▎          | 199/7750 [01:20<50:47,  2.48it/s, loss=66.9, v_num=0][2022-11-01 14:35:18,408][lightning][INFO] - reference : афина покажи телевизионный канал матч тв\n",
      "[2022-11-01 14:35:18,408][lightning][INFO] - prediction: афина покализелизано канамаш теви\n",
      "Epoch 0:   3%|▎          | 204/7750 [01:22<50:34,  2.49it/s, loss=68.4, v_num=0][2022-11-01 14:35:20,206][lightning][INFO] - reference : джой как расплачиваться в бельгии\n",
      "[2022-11-01 14:35:20,206][lightning][INFO] - prediction: джой какраскочиноцерпеди\n",
      "Epoch 0:   3%|▎          | 209/7750 [01:23<50:20,  2.50it/s, loss=65.3, v_num=0][2022-11-01 14:35:21,806][lightning][INFO] - reference : джой какие виды черное лето ты знаешь\n",
      "[2022-11-01 14:35:21,806][lightning][INFO] - prediction: джой катиевивичаттковераты знаешь\n",
      "Epoch 0:   3%|▎          | 214/7750 [01:25<50:05,  2.51it/s, loss=64.6, v_num=0][2022-11-01 14:35:23,297][lightning][INFO] - reference : афина шутки про нападение\n",
      "[2022-11-01 14:35:23,297][lightning][INFO] - prediction: афина шоки прола бадени\n",
      "Epoch 0:   3%|▎          | 219/7750 [01:27<49:52,  2.52it/s, loss=62.3, v_num=0][2022-11-01 14:35:25,356][lightning][INFO] - reference : сколько стоит один евро в рублях\n",
      "[2022-11-01 14:35:25,356][lightning][INFO] - prediction: фолюкостот тадинева бобля\n",
      "Epoch 0:   3%|▎          | 224/7750 [01:29<49:53,  2.51it/s, loss=57.4, v_num=0][2022-11-01 14:35:27,209][lightning][INFO] - reference : афина где было восстание разина\n",
      "[2022-11-01 14:35:27,209][lightning][INFO] - prediction: афина деговостаирразма\n",
      "Epoch 0:   3%|▎          | 229/7750 [01:30<49:45,  2.52it/s, loss=54.6, v_num=0][2022-11-01 14:35:29,227][lightning][INFO] - reference : афина заплатить за владимир водоканал\n",
      "[2022-11-01 14:35:29,227][lightning][INFO] - prediction: афина саподизевадимерзадака\n",
      "Epoch 0:   3%|▎          | 234/7750 [01:32<49:45,  2.52it/s, loss=54.6, v_num=0][2022-11-01 14:35:31,013][lightning][INFO] - reference : салют какие каких защитников животных ты знаешь\n",
      "[2022-11-01 14:35:31,013][lightning][INFO] - prediction: салют какапиниапизошии кужооавты знашь\n",
      "Epoch 0:   3%|▎          | 239/7750 [01:34<49:37,  2.52it/s, loss=56.9, v_num=0][2022-11-01 14:35:32,874][lightning][INFO] - reference : джой отметь что этот трек не катит\n",
      "[2022-11-01 14:35:32,874][lightning][INFO] - prediction: джой акичтато трокею кат\n",
      "Epoch 0:   3%|▎          | 244/7750 [01:36<49:30,  2.53it/s, loss=56.6, v_num=0][2022-11-01 14:35:34,712][lightning][INFO] - reference : сбер в чем заключается уникальность продукта тинькова и почему они им так гордятся\n",
      "[2022-11-01 14:35:34,712][lightning][INFO] - prediction: сбер чазаключатяни каниспраобувтатин ково почемани тапортець\n",
      "Epoch 0:   3%|▎          | 249/7750 [01:38<49:22,  2.53it/s, loss=54.6, v_num=0][2022-11-01 14:35:36,587][lightning][INFO] - reference : салют покажи где есть банкоматы\n",
      "[2022-11-01 14:35:36,588][lightning][INFO] - prediction: салют покажимедеист поркамату\n",
      "Epoch 0:   3%|▎          | 254/7750 [01:39<49:10,  2.54it/s, loss=51.9, v_num=0][2022-11-01 14:35:38,123][lightning][INFO] - reference : салют вперед на пятнадцать минут\n",
      "[2022-11-01 14:35:38,123][lightning][INFO] - prediction: салют переыг насила\n",
      "Epoch 0:   3%|▎          | 259/7750 [01:41<49:02,  2.55it/s, loss=50.9, v_num=0][2022-11-01 14:35:39,650][lightning][INFO] - reference : салют оформить кредит на выгодных условиях\n",
      "[2022-11-01 14:35:39,650][lightning][INFO] - prediction: салют кафомитпрдина модына хосоле\n",
      "Epoch 0:   3%|▍            | 264/7750 [01:43<48:50,  2.55it/s, loss=52, v_num=0][2022-11-01 14:35:41,478][lightning][INFO] - reference : сбер какие координаты у штаб квартиры оон\n",
      "[2022-11-01 14:35:41,478][lightning][INFO] - prediction: сбер какие карденаточкак котиро уон\n"
     ]
    },
    {
     "name": "stdout",
     "output_type": "stream",
     "text": [
      "Epoch 0:   3%|▍          | 269/7750 [01:45<48:43,  2.56it/s, loss=52.6, v_num=0][2022-11-01 14:35:43,343][lightning][INFO] - reference : афина проиграй диско\n",
      "[2022-11-01 14:35:43,344][lightning][INFO] - prediction: афина пройдраискову\n",
      "Epoch 0:   4%|▍          | 274/7750 [01:46<48:34,  2.57it/s, loss=52.4, v_num=0][2022-11-01 14:35:44,930][lightning][INFO] - reference : джой есть дети у ольги юрьевны\n",
      "[2022-11-01 14:35:44,930][lightning][INFO] - prediction: джой есдети валдимрилини\n",
      "Epoch 0:   4%|▍          | 279/7750 [01:48<48:27,  2.57it/s, loss=52.1, v_num=0][2022-11-01 14:35:46,910][lightning][INFO] - reference : салют включи всеволода фиалковского\n",
      "[2022-11-01 14:35:46,910][lightning][INFO] - prediction: салют зключисигобы крео госну\n",
      "Epoch 0:   4%|▍          | 284/7750 [01:50<48:27,  2.57it/s, loss=53.2, v_num=0][2022-11-01 14:35:48,675][lightning][INFO] - reference : сбер перевести маме на карту сотню\n",
      "[2022-11-01 14:35:48,675][lightning][INFO] - prediction: сбер перевисти мани на каркосолбя\n",
      "Epoch 0:   4%|▍            | 289/7750 [01:52<48:21,  2.57it/s, loss=57, v_num=0][2022-11-01 14:35:50,489][lightning][INFO] - reference : сбер машке триста рублей перекинь пожалуйста\n",
      "[2022-11-01 14:35:50,489][lightning][INFO] - prediction: сбер машти кисторублеепети божалс\n",
      "Epoch 0:   4%|▍          | 294/7750 [01:54<48:15,  2.58it/s, loss=59.2, v_num=0][2022-11-01 14:35:52,323][lightning][INFO] - reference : джой установить будильник как сегодня\n",
      "[2022-11-01 14:35:52,323][lightning][INFO] - prediction: джой стелаиводимни хотигоны\n",
      "Epoch 0:   4%|▌            | 299/7750 [01:56<48:13,  2.58it/s, loss=60, v_num=0][2022-11-01 14:35:54,426][lightning][INFO] - reference : джой страна сталининградской военной школы летчиков\n",
      "[2022-11-01 14:35:54,426][lightning][INFO] - prediction: джой сбронастерениндрацки боенвычколы лачегу\n",
      "Epoch 0:   4%|▍          | 300/7750 [01:56<48:23,  2.57it/s, loss=59.3, v_num=0]`Trainer.fit` stopped: `max_steps=300` reached.\n",
      "Epoch 0:   4%|▍          | 300/7750 [01:56<48:23,  2.57it/s, loss=59.3, v_num=0]\n"
     ]
    }
   ],
   "source": [
    "! HYDRA_FULL_ERROR=1 python3 main.py model.init_weights=/raid/mtalalay/quartznet/data/q5x5_ru_stride_4_crowd_epoch_4_step_9794.ckpt"
   ]
  },
  {
   "cell_type": "code",
   "execution_count": 4,
   "id": "badd0501",
   "metadata": {},
   "outputs": [
    {
     "name": "stderr",
     "output_type": "stream",
     "text": [
      "################################################################################\n",
      "### WARNING, path does not exist: KALDI_ROOT=/mnt/matylda5/iveselyk/Tools/kaldi-trunk\n",
      "###          (please add 'export KALDI_ROOT=<your_path>' in your $HOME/.profile)\n",
      "###          (or run as: KALDI_ROOT=<your_path> python <your_script>.py)\n",
      "################################################################################\n",
      "\n"
     ]
    }
   ],
   "source": [
    "import hydra\n",
    "import omegaconf\n",
    "import torch\n",
    "import pytorch_lightning as pl\n",
    "\n",
    "from src.model import QuartzNetCTC, logger"
   ]
  },
  {
   "cell_type": "code",
   "execution_count": 6,
   "id": "02fa993f",
   "metadata": {},
   "outputs": [],
   "source": [
    "conf = omegaconf.OmegaConf.load('conf/quarznet_5x5_ru.yaml')"
   ]
  },
  {
   "cell_type": "code",
   "execution_count": 7,
   "id": "b296601d",
   "metadata": {},
   "outputs": [
    {
     "name": "stderr",
     "output_type": "stream",
     "text": [
      "GPU available: True (cuda), used: True\n",
      "TPU available: False, using: 0 TPU cores\n",
      "IPU available: False, using: 0 IPUs\n",
      "HPU available: False, using: 0 HPUs\n",
      "`Trainer(val_check_interval=1.0)` was configured so validation will run at the end of the training epoch..\n"
     ]
    }
   ],
   "source": [
    "model = QuartzNetCTC(conf)\n",
    "\n",
    "if conf.model.init_weights:\n",
    "    ckpt = torch.load(conf.model.init_weights, map_location=\"cuda\")\n",
    "    model.load_state_dict(ckpt[\"state_dict\"], strict=False)\n",
    "    logger.info(\"successful load initial weights\")\n",
    "\n",
    "trainer = pl.Trainer(\n",
    "    logger=pl.loggers.TensorBoardLogger(save_dir=\"logs\"), **conf.trainer\n",
    ")"
   ]
  },
  {
   "cell_type": "code",
   "execution_count": 8,
   "id": "31a61ade",
   "metadata": {},
   "outputs": [
    {
     "name": "stderr",
     "output_type": "stream",
     "text": [
      "Missing logger folder: logs/lightning_logs\n",
      "LOCAL_RANK: 0 - CUDA_VISIBLE_DEVICES: [15]\n",
      "/raid/mtalalay/venv/lib/python3.8/site-packages/pytorch_lightning/trainer/connectors/data_connector.py:236: PossibleUserWarning: The dataloader, val_dataloader 0, does not have many workers which may be a bottleneck. Consider increasing the value of the `num_workers` argument` (try 96 which is the number of cpus on this machine) in the `DataLoader` init to improve performance.\n",
      "  rank_zero_warn(\n"
     ]
    },
    {
     "data": {
      "application/vnd.jupyter.widget-view+json": {
       "model_id": "1966bf8b1527447d943780cf1691c177",
       "version_major": 2,
       "version_minor": 0
      },
      "text/plain": [
       "Validation: 0it [00:00, ?it/s]"
      ]
     },
     "metadata": {},
     "output_type": "display_data"
    },
    {
     "name": "stdout",
     "output_type": "stream",
     "text": [
      "────────────────────────────────────────────────────────────────────────────────────────────────────────────────────────\n",
      "     Validate metric           DataLoader 0\n",
      "────────────────────────────────────────────────────────────────────────────────────────────────────────────────────────\n",
      "        val_loss             580.234130859375\n",
      "         val_wer            1.0001193284988403\n",
      "────────────────────────────────────────────────────────────────────────────────────────────────────────────────────────\n"
     ]
    },
    {
     "data": {
      "text/plain": [
       "[{'val_wer': 1.0001193284988403, 'val_loss': 580.234130859375}]"
      ]
     },
     "execution_count": 8,
     "metadata": {},
     "output_type": "execute_result"
    }
   ],
   "source": [
    "trainer.validate(model)"
   ]
  },
  {
   "cell_type": "code",
   "execution_count": 9,
   "id": "6376fee0",
   "metadata": {},
   "outputs": [
    {
     "name": "stderr",
     "output_type": "stream",
     "text": [
      "LOCAL_RANK: 0 - CUDA_VISIBLE_DEVICES: [15]\n",
      "\n",
      "  | Name     | Type        | Params\n",
      "-----------------------------------------\n",
      "0 | encoder  | QuartzNet   | 6.7 M \n",
      "1 | decoder  | ConvDecoder | 34.9 K\n",
      "2 | wer      | WER         | 0     \n",
      "3 | ctc_loss | CTCLoss     | 0     \n",
      "-----------------------------------------\n",
      "6.7 M     Trainable params\n",
      "0         Non-trainable params\n",
      "6.7 M     Total params\n",
      "26.873    Total estimated model params size (MB)\n"
     ]
    },
    {
     "data": {
      "application/vnd.jupyter.widget-view+json": {
       "model_id": "",
       "version_major": 2,
       "version_minor": 0
      },
      "text/plain": [
       "Sanity Checking: 0it [00:00, ?it/s]"
      ]
     },
     "metadata": {},
     "output_type": "display_data"
    },
    {
     "name": "stderr",
     "output_type": "stream",
     "text": [
      "/raid/mtalalay/venv/lib/python3.8/site-packages/pytorch_lightning/trainer/connectors/data_connector.py:236: PossibleUserWarning: The dataloader, val_dataloader 0, does not have many workers which may be a bottleneck. Consider increasing the value of the `num_workers` argument` (try 96 which is the number of cpus on this machine) in the `DataLoader` init to improve performance.\n",
      "  rank_zero_warn(\n",
      "/raid/mtalalay/venv/lib/python3.8/site-packages/pytorch_lightning/trainer/connectors/data_connector.py:236: PossibleUserWarning: The dataloader, train_dataloader, does not have many workers which may be a bottleneck. Consider increasing the value of the `num_workers` argument` (try 96 which is the number of cpus on this machine) in the `DataLoader` init to improve performance.\n",
      "  rank_zero_warn(\n"
     ]
    },
    {
     "data": {
      "application/vnd.jupyter.widget-view+json": {
       "model_id": "566ade9d872a485699e3bd3e1d533adc",
       "version_major": 2,
       "version_minor": 0
      },
      "text/plain": [
       "Training: 0it [00:00, ?it/s]"
      ]
     },
     "metadata": {},
     "output_type": "display_data"
    },
    {
     "name": "stderr",
     "output_type": "stream",
     "text": [
      "`Trainer.fit` stopped: `max_steps=7750` reached.\n"
     ]
    }
   ],
   "source": [
    "trainer.fit(model)"
   ]
  },
  {
   "cell_type": "code",
   "execution_count": 10,
   "id": "6cb8495e",
   "metadata": {},
   "outputs": [
    {
     "name": "stderr",
     "output_type": "stream",
     "text": [
      "LOCAL_RANK: 0 - CUDA_VISIBLE_DEVICES: [15]\n",
      "/raid/mtalalay/venv/lib/python3.8/site-packages/pytorch_lightning/trainer/connectors/data_connector.py:236: PossibleUserWarning: The dataloader, val_dataloader 0, does not have many workers which may be a bottleneck. Consider increasing the value of the `num_workers` argument` (try 96 which is the number of cpus on this machine) in the `DataLoader` init to improve performance.\n",
      "  rank_zero_warn(\n"
     ]
    },
    {
     "data": {
      "application/vnd.jupyter.widget-view+json": {
       "model_id": "7145ea41ac5b45a0bf78a4ab7e03db45",
       "version_major": 2,
       "version_minor": 0
      },
      "text/plain": [
       "Validation: 0it [00:00, ?it/s]"
      ]
     },
     "metadata": {},
     "output_type": "display_data"
    },
    {
     "name": "stdout",
     "output_type": "stream",
     "text": [
      "────────────────────────────────────────────────────────────────────────────────────────────────────────────────────────\n",
      "     Validate metric           DataLoader 0\n",
      "────────────────────────────────────────────────────────────────────────────────────────────────────────────────────────\n",
      "        val_loss             48.52899169921875\n",
      "         val_wer            0.8068479895591736\n",
      "────────────────────────────────────────────────────────────────────────────────────────────────────────────────────────\n"
     ]
    },
    {
     "data": {
      "text/plain": [
       "[{'val_wer': 0.8068479895591736, 'val_loss': 48.52899169921875}]"
      ]
     },
     "execution_count": 10,
     "metadata": {},
     "output_type": "execute_result"
    }
   ],
   "source": [
    "trainer.validate(model)"
   ]
  },
  {
   "cell_type": "code",
   "execution_count": 11,
   "id": "d3573639",
   "metadata": {},
   "outputs": [
    {
     "name": "stderr",
     "output_type": "stream",
     "text": [
      "LOCAL_RANK: 0 - CUDA_VISIBLE_DEVICES: [15]\n",
      "\n",
      "  | Name     | Type        | Params\n",
      "-----------------------------------------\n",
      "0 | encoder  | QuartzNet   | 6.7 M \n",
      "1 | decoder  | ConvDecoder | 34.9 K\n",
      "2 | wer      | WER         | 0     \n",
      "3 | ctc_loss | CTCLoss     | 0     \n",
      "-----------------------------------------\n",
      "6.7 M     Trainable params\n",
      "0         Non-trainable params\n",
      "6.7 M     Total params\n",
      "26.873    Total estimated model params size (MB)\n"
     ]
    },
    {
     "data": {
      "application/vnd.jupyter.widget-view+json": {
       "model_id": "",
       "version_major": 2,
       "version_minor": 0
      },
      "text/plain": [
       "Sanity Checking: 0it [00:00, ?it/s]"
      ]
     },
     "metadata": {},
     "output_type": "display_data"
    },
    {
     "name": "stderr",
     "output_type": "stream",
     "text": [
      "/raid/mtalalay/venv/lib/python3.8/site-packages/pytorch_lightning/trainer/connectors/data_connector.py:236: PossibleUserWarning: The dataloader, val_dataloader 0, does not have many workers which may be a bottleneck. Consider increasing the value of the `num_workers` argument` (try 96 which is the number of cpus on this machine) in the `DataLoader` init to improve performance.\n",
      "  rank_zero_warn(\n",
      "`Trainer.fit` stopped: `max_steps=7750` reached.\n"
     ]
    }
   ],
   "source": [
    "trainer.fit(model)"
   ]
  },
  {
   "cell_type": "code",
   "execution_count": 12,
   "id": "7339269a",
   "metadata": {},
   "outputs": [
    {
     "name": "stderr",
     "output_type": "stream",
     "text": [
      "LOCAL_RANK: 0 - CUDA_VISIBLE_DEVICES: [15]\n",
      "/raid/mtalalay/venv/lib/python3.8/site-packages/pytorch_lightning/trainer/connectors/data_connector.py:236: PossibleUserWarning: The dataloader, val_dataloader 0, does not have many workers which may be a bottleneck. Consider increasing the value of the `num_workers` argument` (try 96 which is the number of cpus on this machine) in the `DataLoader` init to improve performance.\n",
      "  rank_zero_warn(\n"
     ]
    },
    {
     "data": {
      "application/vnd.jupyter.widget-view+json": {
       "model_id": "787d41004bff4ad691a984c135ab7705",
       "version_major": 2,
       "version_minor": 0
      },
      "text/plain": [
       "Validation: 0it [00:00, ?it/s]"
      ]
     },
     "metadata": {},
     "output_type": "display_data"
    },
    {
     "name": "stdout",
     "output_type": "stream",
     "text": [
      "────────────────────────────────────────────────────────────────────────────────────────────────────────────────────────\n",
      "     Validate metric           DataLoader 0\n",
      "────────────────────────────────────────────────────────────────────────────────────────────────────────────────────────\n",
      "        val_loss             48.52899169921875\n",
      "         val_wer            0.8068479895591736\n",
      "────────────────────────────────────────────────────────────────────────────────────────────────────────────────────────\n"
     ]
    },
    {
     "data": {
      "text/plain": [
       "[{'val_wer': 0.8068479895591736, 'val_loss': 48.52899169921875}]"
      ]
     },
     "execution_count": 12,
     "metadata": {},
     "output_type": "execute_result"
    }
   ],
   "source": [
    "trainer.validate(model)"
   ]
  },
  {
   "cell_type": "code",
   "execution_count": null,
   "id": "6a2f0d17",
   "metadata": {},
   "outputs": [],
   "source": []
  }
 ],
 "metadata": {
  "kernelspec": {
   "display_name": "mtalalay_venv",
   "language": "python",
   "name": "venv"
  },
  "language_info": {
   "codemirror_mode": {
    "name": "ipython",
    "version": 3
   },
   "file_extension": ".py",
   "mimetype": "text/x-python",
   "name": "python",
   "nbconvert_exporter": "python",
   "pygments_lexer": "ipython3",
   "version": "3.8.0"
  }
 },
 "nbformat": 4,
 "nbformat_minor": 5
}
